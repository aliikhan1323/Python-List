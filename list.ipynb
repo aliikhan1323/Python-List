{
 "cells": [
  {
   "cell_type": "markdown",
   "metadata": {},
   "source": [
    "# 📜 Python Lists - Examples & Usage  \n",
    "\n",
    "This repository contains a simple **Python script** demonstrating different types of lists and their properties.  \n",
    "\n",
    "## 📌 About  \n",
    "In Python, a **list** is:  \n",
    "✅ **Ordered** – Maintains the order of elements  \n",
    "✅ **Changeable** – Can be modified after creation  \n",
    "✅ **Allows Duplicates** – Supports multiple occurrences of the same value  \n",
    "\n",
    "## 1. Various Types of list\n",
    "List items can include strings, integers, floats, booleans, or a combination of these.\n"
   ]
  },
  {
   "cell_type": "code",
   "execution_count": 3,
   "metadata": {},
   "outputs": [
    {
     "name": "stdout",
     "output_type": "stream",
     "text": [
      "List of string type: ['Audi', 'Honda', 'Hundai', 'Changan', 'Daihatsu', 'Toyota', 'Nissan', 'Suzuki']\n",
      "List of int type: [1, 5, 3, 4, 9]\n",
      "List of float type: [12.5, 3.5, 12.4, 99.66, 123.321]\n",
      "List of bool type: [True, False]\n",
      "List of mix type: ['Audi', 3, 3.9, True]\n"
     ]
    }
   ],
   "source": [
    "#Different types of list\n",
    "list=[\"Audi\",\"Honda\",\"Hundai\",\"Changan\",\"Daihatsu\",\"Toyota\", \"Nissan\", \"Suzuki\"]\n",
    "list1=[1,5,3,4,9]\n",
    "list2=[12.5, 3.5, 12.4, 99.66, 123.321 ]\n",
    "list3=[True,False]\n",
    "list4=[\"Audi\",3,3.9,True]\n",
    "print(\"List of string type:\",list)\n",
    "print(\"List of int type:\",list1)\n",
    "print(\"List of float type:\",list2)\n",
    "print(\"List of bool type:\",list3)\n",
    "print(\"List of mix type:\",list4)\n"
   ]
  },
  {
   "cell_type": "markdown",
   "metadata": {},
   "source": [
    "## 2. To Check the Data-Type of List  \n",
    "To display the datatype of a List, we use type() bulid-in function"
   ]
  },
  {
   "cell_type": "code",
   "execution_count": 4,
   "metadata": {},
   "outputs": [
    {
     "name": "stdout",
     "output_type": "stream",
     "text": [
      "Data-Type of list is: <class 'list'>\n",
      "Data-Type of list is: <class 'list'>\n",
      "Data-Type of list is: <class 'list'>\n",
      "Data-Type of list is: <class 'list'>\n",
      "Data-Type of list is: <class 'list'>\n"
     ]
    }
   ],
   "source": [
    "#To display the data type using type() function\n",
    "print(\"Data-Type of list is:\",type(list))\n",
    "print(\"Data-Type of list is:\",type(list1))\n",
    "print(\"Data-Type of list is:\",type(list2))\n",
    "print(\"Data-Type of list is:\",type(list3))\n",
    "print(\"Data-Type of list is:\",type(list4))"
   ]
  },
  {
   "cell_type": "markdown",
   "metadata": {},
   "source": [
    "## 3. To Check the Length of List  \n",
    "To display the Length of a List, we use len() bulid-in function"
   ]
  },
  {
   "cell_type": "code",
   "execution_count": 6,
   "metadata": {},
   "outputs": [
    {
     "name": "stdout",
     "output_type": "stream",
     "text": [
      "Length of list is: 8\n",
      "Length of list is: 5\n",
      "Length of list is: 5\n",
      "Length of list is: 2\n",
      "Length of list is: 4\n"
     ]
    }
   ],
   "source": [
    "print(\"Length of list is:\",len(list))\n",
    "print(\"Length of list is:\",len(list1))\n",
    "print(\"Length of list is:\",len(list2))\n",
    "print(\"Length of list is:\",len(list3))\n",
    "print(\"Length of list is:\",len(list4))"
   ]
  },
  {
   "cell_type": "markdown",
   "metadata": {},
   "source": [
    "# 4.📜 Python List Indexing - Accessing List Items  \n",
    "\n",
    "This demonstrates different ways to **access elements** in a Python list using **positive and negative indexing**.  \n",
    "\n",
    "## 📌 About  \n",
    "In Python, lists support:  \n",
    "✅ **Positive Indexing** – Starts from `0` (left to right)  \n",
    "✅ **Negative Indexing** – Starts from `-1` (right to left)  \n",
    "✅ **Range Indexing** – Extracts a subset of the list  "
   ]
  },
  {
   "cell_type": "code",
   "execution_count": 7,
   "metadata": {},
   "outputs": [
    {
     "name": "stdout",
     "output_type": "stream",
     "text": [
      "Hundai\n",
      "Changan\n",
      "['Changan', 'Daihatsu', 'Toyota']\n",
      "['Changan', 'Daihatsu', 'Toyota']\n",
      "['Audi', 'Honda', 'Hundai', 'Changan', 'Daihatsu']\n",
      "['Changan', 'Daihatsu', 'Toyota', 'Nissan', 'Suzuki']\n"
     ]
    }
   ],
   "source": [
    "#*** Access the list items. *** \n",
    "list=[\"Audi\",\"Honda\",\"Hundai\",\"Changan\",\"Daihatsu\",\"Toyota\", \"Nissan\", \"Suzuki\"]\n",
    "#Positive and negative indexing\n",
    "print(list[2])\n",
    "print(list[-5])\n",
    "\n",
    "#Range of indexing\n",
    "print(list[3:6]) #Positive Indexing\n",
    "print(list[-5:-2]) #Negative Indexing\n",
    "print(list[:5])\n",
    "print(list[3:])"
   ]
  },
  {
   "cell_type": "markdown",
   "metadata": {},
   "source": [
    "## 5. 📌 Check if an item exists in list \n",
    "This contains a simple Python script to **check if an item exists** in a list using the `in` keyword. "
   ]
  },
  {
   "cell_type": "code",
   "execution_count": 9,
   "metadata": {},
   "outputs": [
    {
     "name": "stdout",
     "output_type": "stream",
     "text": [
      "Yes, Audi is present in list\n"
     ]
    }
   ],
   "source": [
    "#check if item is exist or not\n",
    "list=[\"Audi\",\"Honda\",\"Hundai\",\"Changan\",\"Daihatsu\",\"Toyota\", \"Nissan\", \"Suzuki\"]\n",
    "if \"Audi\" in list:\n",
    "    print(\"Yes, Audi is present in list\")\n",
    "else:\n",
    "    print(\"Sorry! Item is not available in list\")\n"
   ]
  },
  {
   "cell_type": "markdown",
   "metadata": {},
   "source": [
    "# 6. 🔄 Change List Items in Python  \n",
    "\n",
    "This contains a **Python script** demonstrating how to **change, replace, and insert** items in a list.    \n",
    "In Python, lists are **mutable**, meaning their elements can be modified:  \n",
    "✔️ **Change a specific item** using index assignment  \n",
    "✔️ **Replace multiple items** using range indexing  \n",
    "✔️ **Insert new items** at a specific position using `insert()`  \n"
   ]
  },
  {
   "cell_type": "code",
   "execution_count": 10,
   "metadata": {},
   "outputs": [
    {
     "name": "stdout",
     "output_type": "stream",
     "text": [
      "['Audi', 'Honda', 'Hundai', 'Changan', 'Daihatsu', 'Toyota', 'Probox', 'Suzuki']\n",
      "8\n",
      "['Audi', 'Honda', 'Hundai', 'XLI', 'GLI', 'Altis', 'Probox', 'Suzuki']\n",
      "6\n",
      "['Audi', 'Honda', 'Hundai', 'Grande', 'Probox', 'Suzuki']\n",
      "['Audi', 'Honda', 'Hundai', 'Changan', 'Daihatsu', 'Toyota', 'Toyota-Feilder', 'Nissan', 'Suzuki']\n"
     ]
    }
   ],
   "source": [
    "#***Change Item Values***\n",
    "list=[\"Audi\",\"Honda\",\"Hundai\",\"Changan\",\"Daihatsu\",\"Toyota\", \"Nissan\", \"Suzuki\"]\n",
    "list[6]=\"Probox\" #Change item at specific index.\n",
    "print(list)\n",
    "list[3:6]=[\"XLI\",\"GLI\",\"Altis\"] # Change Range of Values\n",
    "print(len(list))\n",
    "print(list)\n",
    "list[3:6]=[\"Grande\"]\n",
    "print(len(list))\n",
    "print(list)\n",
    "#Add items using insert() function\n",
    "car=[\"Audi\",\"Honda\",\"Hundai\",\"Changan\",\"Daihatsu\",\"Toyota\", \"Nissan\", \"Suzuki\"]\n",
    "car.insert(6,\"Toyota-Feilder\")\n",
    "print(car)\n"
   ]
  },
  {
   "cell_type": "markdown",
   "metadata": {},
   "source": [
    "# 7. 🔗 Combine Two Lists in Python  \n",
    "\n",
    "This demonstrates how to **merge two lists** using the `extend()` method in Python.    \n",
    "Python allows combining lists in multiple ways. The `extend()` method is commonly used to **add elements of one list to another** without creating a new list.  \n",
    "\n"
   ]
  },
  {
   "cell_type": "code",
   "execution_count": 11,
   "metadata": {},
   "outputs": [
    {
     "name": "stdout",
     "output_type": "stream",
     "text": [
      "['Mouse', 'Keyboard', 'Airpods']\n",
      "['Face Book', 'Whatsapp', 'Instagram']\n",
      "['Mouse', 'Keyboard', 'Airpods', 'Face Book', 'Whatsapp', 'Instagram']\n"
     ]
    }
   ],
   "source": [
    "#Combine Two List.\n",
    "hardware=[\"Mouse\",\"Keyboard\",\"Airpods\"]\n",
    "print(hardware)\n",
    "software=[\"Face Book\", \"Whatsapp\",\"Instagram\"]\n",
    "print(software)\n",
    "hardware.extend(software) \n",
    "print(hardware)\n"
   ]
  },
  {
   "cell_type": "markdown",
   "metadata": {},
   "source": [
    "# 8. 🗑️ Removing Items from a List in Python  \n",
    "\n",
    "This demonstrates different ways to **remove elements** from a Python list using `remove()`, `pop()`, and `clear()`.  \n",
    "Python provides multiple methods to delete items from a list:  \n",
    "✔️ **`remove(value)`** – Deletes the first occurrence of a specific item.  \n",
    "✔️ **`pop(index)`** – Removes an item at a specified index.  \n",
    "✔️ **`clear()`** – Empties the entire list.  "
   ]
  },
  {
   "cell_type": "code",
   "execution_count": 12,
   "metadata": {},
   "outputs": [
    {
     "name": "stdout",
     "output_type": "stream",
     "text": [
      "Sorting list items:\n",
      "List Before sorting ['Audi', 'Honda', 'Hundai', 'Changan', 'Daihatsu', 'Toyota', 'Nissan', 'Suzuki']\n",
      "['Audi', 'Changan', 'Daihatsu', 'Honda', 'Hundai', 'Nissan', 'Suzuki', 'Toyota']\n",
      "Sorting Numbers:\n",
      " Before Sorting Numbers: [23, 100, 10, 200, 65, 90, 40]\n",
      "Sorting Number are: [10, 23, 40, 65, 90, 100, 200]\n",
      "Sorting Alphabets in Decending order: ['F', 'E', 'D', 'C', 'B', 'A']\n",
      "Reverse function result: ['Toyota', 'Suzuki', 'Nissan', 'Hundai', 'Honda', 'Daihatsu', 'Changan', 'Audi']\n"
     ]
    }
   ],
   "source": [
    "#Sorting list items using sort() Function.\n",
    "print(\"Sorting list items:\")\n",
    "automobile=[\"Audi\",\"Honda\",\"Hundai\",\"Changan\",\"Daihatsu\",\"Toyota\", \"Nissan\", \"Suzuki\"]\n",
    "print(\"List Before sorting\",automobile)\n",
    "automobile.sort()\n",
    "print(automobile)\n",
    "print(\"Sorting Numbers:\")\n",
    "numbers=[23,100,10,200,65,90,40]\n",
    "print(\" Before Sorting Numbers:\",numbers)\n",
    "numbers.sort()\n",
    "print(\"Sorting Number are:\",numbers)\n",
    "char=[\"A\",\"B\",\"C\",\"D\",\"E\",\"F\"]\n",
    "char.sort(reverse=True)\n",
    "print(\"Sorting Alphabets in Decending order:\",char) #if want in accending order reverse=False.\n",
    "automobile.reverse()\n",
    "print(\"Reverse function result:\",automobile) # call a reverse() Function to reverse items of list\n"
   ]
  },
  {
   "cell_type": "markdown",
   "metadata": {},
   "source": [
    "# 9. 🔢 Sorting Lists in Python  \n",
    "\n",
    "This demonstrates how to **sort list elements** using the `sort()` and `reverse()` functions in Python.    \n",
    "Python provides built-in methods to sort lists efficiently:  \n",
    "✔️ **`sort()`** – Sorts the list in **ascending order** (default).  \n",
    "✔️ **`sort(reverse=True)`** – Sorts the list in **descending order**.  \n",
    "✔️ **`reverse()`** – Reverses the current order of elements in the list.  \n"
   ]
  },
  {
   "cell_type": "code",
   "execution_count": 13,
   "metadata": {},
   "outputs": [
    {
     "name": "stdout",
     "output_type": "stream",
     "text": [
      "Sorting list items:\n",
      "List Before Sorting: ['Audi', 'Honda', 'Hundai', 'Changan', 'Daihatsu', 'Toyota', 'Nissan', 'Suzuki']\n",
      "List After Sorting: ['Audi', 'Changan', 'Daihatsu', 'Honda', 'Hundai', 'Nissan', 'Suzuki', 'Toyota']\n",
      "\n",
      "Sorting Numbers:\n",
      "Before Sorting Numbers: [23, 100, 10, 200, 65, 90, 40]\n",
      "Sorted Numbers: [10, 23, 40, 65, 90, 100, 200]\n",
      "\n",
      "Sorting Alphabets in Descending Order: ['F', 'E', 'D', 'C', 'B', 'A']\n",
      "\n",
      "Reverse Function Result: ['Toyota', 'Suzuki', 'Nissan', 'Hundai', 'Honda', 'Daihatsu', 'Changan', 'Audi']\n"
     ]
    }
   ],
   "source": [
    "print(\"Sorting list items:\")\n",
    "automobile = [\"Audi\", \"Honda\", \"Hundai\", \"Changan\", \"Daihatsu\", \"Toyota\", \"Nissan\", \"Suzuki\"]\n",
    "print(\"List Before Sorting:\", automobile)\n",
    "\n",
    "automobile.sort()\n",
    "print(\"List After Sorting:\", automobile)\n",
    "\n",
    "print(\"\\nSorting Numbers:\")\n",
    "numbers = [23, 100, 10, 200, 65, 90, 40]\n",
    "print(\"Before Sorting Numbers:\", numbers)\n",
    "\n",
    "numbers.sort()\n",
    "print(\"Sorted Numbers:\", numbers)\n",
    "\n",
    "char = [\"A\", \"B\", \"C\", \"D\", \"E\", \"F\"]\n",
    "char.sort(reverse=True)  # Sorting in descending order\n",
    "print(\"\\nSorting Alphabets in Descending Order:\", char)\n",
    "\n",
    "automobile.reverse()  # Reversing the sorted list\n",
    "print(\"\\nReverse Function Result:\", automobile)\n"
   ]
  },
  {
   "cell_type": "markdown",
   "metadata": {},
   "source": [
    "# 10. 📋 Copying Lists in Python  \n",
    "\n",
    "This demonstrates different ways to **copy a list** in Python, ensuring that changes to one list do not affect the original.  \n",
    "Python provides multiple ways to create a copy of a list:  \n",
    "✔️ **`copy()`** – Creates a **shallow copy** of the list.  \n",
    "✔️ **`list()`** – Converts an existing list into a new one.  \n",
    "✔️ **Slice Operator `[:]`** – Copies all elements of the list.  \n"
   ]
  },
  {
   "cell_type": "code",
   "execution_count": null,
   "metadata": {},
   "outputs": [],
   "source": [
    "# Copy list Items\n",
    "char = [\"A\", \"B\", \"C\", \"D\", \"E\", \"F\"]\n",
    "characters = char.copy()  # Using copy() function\n",
    "char1 = list(char)  # Using list() function\n",
    "\n",
    "# Defining the automobile list before using it\n",
    "automobile = [\"Audi\", \"Honda\", \"Toyota\", \"Nissan\"]\n",
    "\n",
    "slice_operator = automobile[:]  # Using slice operator [:]\n",
    "automobile1 = list(automobile)  # Using list() function to copy the list\n",
    "\n",
    "print(\"Using list function:\", char1, automobile1)\n",
    "print(\"This is our copied list:\", characters)\n",
    "print(\"This is our Slice operator result:\", slice_operator)\n"
   ]
  },
  {
   "cell_type": "markdown",
   "metadata": {},
   "source": [
    "# 11. 🔗 Joining Two Lists in Python  \n",
    "\n",
    "This repository demonstrates how to **combine two lists** using the `+` operator (concatenation) in Python.  \n",
    "Python allows lists to be joined using the `+` operator, which merges two lists into a new one.  \n",
    "\n"
   ]
  },
  {
   "cell_type": "code",
   "execution_count": 16,
   "metadata": {},
   "outputs": [
    {
     "name": "stdout",
     "output_type": "stream",
     "text": [
      "Addition of two lists or combined list: ['A', 'B', 'C', 'D', 'E', 'F', 1, 2, 3, 4, 5, 6]\n"
     ]
    }
   ],
   "source": [
    "# Join two lists using the + operator (concatenation)\n",
    "char = [\"A\", \"B\", \"C\", \"D\", \"E\", \"F\"]\n",
    "numbers = [1, 2, 3, 4, 5, 6]\n",
    "\n",
    "new = char + numbers  # Merging two lists\n",
    "print(\"Addition of two lists or combined list:\", new)\n"
   ]
  }
 ],
 "metadata": {
  "kernelspec": {
   "display_name": "Python 3",
   "language": "python",
   "name": "python3"
  },
  "language_info": {
   "codemirror_mode": {
    "name": "ipython",
    "version": 3
   },
   "file_extension": ".py",
   "mimetype": "text/x-python",
   "name": "python",
   "nbconvert_exporter": "python",
   "pygments_lexer": "ipython3",
   "version": "3.10.0"
  }
 },
 "nbformat": 4,
 "nbformat_minor": 2
}
